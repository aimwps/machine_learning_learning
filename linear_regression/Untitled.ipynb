{
 "cells": [
  {
   "cell_type": "code",
   "execution_count": 1,
   "id": "60532c29",
   "metadata": {},
   "outputs": [],
   "source": [
    "import numpy as np\n",
    "import pandas as pd\n",
    "import matplotlib.pyplot as plt\n",
    "from sklearn.model_selection import train_test_split"
   ]
  },
  {
   "cell_type": "code",
   "execution_count": 2,
   "id": "ca24f009",
   "metadata": {},
   "outputs": [
    {
     "data": {
      "text/html": [
       "<div>\n",
       "<style scoped>\n",
       "    .dataframe tbody tr th:only-of-type {\n",
       "        vertical-align: middle;\n",
       "    }\n",
       "\n",
       "    .dataframe tbody tr th {\n",
       "        vertical-align: top;\n",
       "    }\n",
       "\n",
       "    .dataframe thead th {\n",
       "        text-align: right;\n",
       "    }\n",
       "</style>\n",
       "<table border=\"1\" class=\"dataframe\">\n",
       "  <thead>\n",
       "    <tr style=\"text-align: right;\">\n",
       "      <th></th>\n",
       "      <th>X</th>\n",
       "      <th>Y</th>\n",
       "    </tr>\n",
       "  </thead>\n",
       "  <tbody>\n",
       "    <tr>\n",
       "      <th>0</th>\n",
       "      <td>32.502345</td>\n",
       "      <td>31.707006</td>\n",
       "    </tr>\n",
       "    <tr>\n",
       "      <th>1</th>\n",
       "      <td>53.426804</td>\n",
       "      <td>68.777596</td>\n",
       "    </tr>\n",
       "    <tr>\n",
       "      <th>2</th>\n",
       "      <td>61.530358</td>\n",
       "      <td>62.562382</td>\n",
       "    </tr>\n",
       "    <tr>\n",
       "      <th>3</th>\n",
       "      <td>47.475640</td>\n",
       "      <td>71.546632</td>\n",
       "    </tr>\n",
       "    <tr>\n",
       "      <th>4</th>\n",
       "      <td>59.813208</td>\n",
       "      <td>87.230925</td>\n",
       "    </tr>\n",
       "  </tbody>\n",
       "</table>\n",
       "</div>"
      ],
      "text/plain": [
       "           X          Y\n",
       "0  32.502345  31.707006\n",
       "1  53.426804  68.777596\n",
       "2  61.530358  62.562382\n",
       "3  47.475640  71.546632\n",
       "4  59.813208  87.230925"
      ]
     },
     "execution_count": 2,
     "metadata": {},
     "output_type": "execute_result"
    }
   ],
   "source": [
    "# Load a the data set from CSV\n",
    "df = pd.read_csv(\"data/reg_data.csv\")\n",
    "df.head()"
   ]
  },
  {
   "cell_type": "code",
   "execution_count": 3,
   "id": "1f5e340b",
   "metadata": {},
   "outputs": [
    {
     "data": {
      "text/plain": [
       "<matplotlib.collections.PathCollection at 0x7f77f2d42fa0>"
      ]
     },
     "execution_count": 3,
     "metadata": {},
     "output_type": "execute_result"
    },
    {
     "data": {
      "image/png": "[encoded data removed]",
      "text/plain": [
       "<Figure size 864x576 with 1 Axes>"
      ]
     },
     "metadata": {
      "needs_background": "light"
     },
     "output_type": "display_data"
    }
   ],
   "source": [
    "plt.figure(figsize=(12,8))\n",
    "plt.scatter(df.X, df.Y, alpha = .4)"
   ]
  },
  {
   "cell_type": "code",
   "execution_count": 5,
   "id": "dafebe39",
   "metadata": {},
   "outputs": [],
   "source": [
    "X = df.X\n",
    "Y = df.Y\n",
    "x_train, x_test, y_train, y_test = train_test_split(X, Y, test_size=0.2, random_state=42)"
   ]
  },
  {
   "cell_type": "code",
   "execution_count": 9,
   "id": "d4fd98ff",
   "metadata": {},
   "outputs": [
    {
     "name": "stdout",
     "output_type": "stream",
     "text": [
      "[55.0780959  44.21174175 57.31000344 50.07314563 35.67809389 48.95588857\n",
      " 44.55560838 49.23976534 52.55001444 46.68222865 54.35163488 53.57507753\n",
      " 54.28232871 46.73761941 46.2309665  55.14218841 56.13038882 39.55790122\n",
      " 45.44053073 44.68719623 64.70713867 57.50444762 39.29956669 50.03017434\n",
      " 63.61556125 38.81681754 56.86890066 59.37082201 52.37844622 58.16847072\n",
      " 51.84518691 47.47563963 60.29732685 36.43600951 48.10504169 55.80573336\n",
      " 52.21179669 33.64470601 61.89622268 38.00548801 41.37772653 25.12848465\n",
      " 51.08863468 43.87061265 38.11982403 57.36205213 40.16689901 60.26921439\n",
      " 50.18638949 50.03957594 38.95476907 43.31828263 49.20388754 33.86421497\n",
      " 48.14985889 62.49469743 44.49285588 42.43647694 68.31936082 41.10268519\n",
      " 50.13548549 57.78822399 33.09383174 50.55676015 53.42680403 40.59953838\n",
      " 65.41605175 61.53035803 41.57564262 50.28283635 53.69163957 70.34607562\n",
      " 51.0887199  34.3331247  66.18981661 41.18201611 53.66093226 56.72720806\n",
      " 68.76573427 44.50253806]\n",
      "(80,)\n"
     ]
    },
    {
     "ename": "NameError",
     "evalue": "name 'b_upper' is not defined",
     "output_type": "error",
     "traceback": [
      "\u001b[0;31m---------------------------------------------------------------------------\u001b[0m",
      "\u001b[0;31mNameError\u001b[0m                                 Traceback (most recent call last)",
      "Input \u001b[0;32mIn [9]\u001b[0m, in \u001b[0;36m<cell line: 7>\u001b[0;34m()\u001b[0m\n\u001b[1;32m      6\u001b[0m y_train \u001b[38;5;241m=\u001b[39m np\u001b[38;5;241m.\u001b[39marray(y_train)\n\u001b[1;32m      7\u001b[0m \u001b[38;5;28;01mfor\u001b[39;00m i \u001b[38;5;129;01min\u001b[39;00m \u001b[38;5;28mrange\u001b[39m(\u001b[38;5;28mlen\u001b[39m(x_train)):\n\u001b[0;32m----> 8\u001b[0m     b_upper \u001b[38;5;241m+\u001b[39m\u001b[38;5;241m=\u001b[39m (x_train[i] \u001b[38;5;241m-\u001b[39m x_mean) \u001b[38;5;241m*\u001b[39m (y_train[i] \u001b[38;5;241m-\u001b[39m y_mean)\n\u001b[1;32m      9\u001b[0m     b_lower \u001b[38;5;241m+\u001b[39m\u001b[38;5;241m=\u001b[39m (x_train[i] \u001b[38;5;241m-\u001b[39m x_mean)\u001b[38;5;241m*\u001b[39m\u001b[38;5;241m*\u001b[39m\u001b[38;5;241m2\u001b[39m\n\u001b[1;32m     10\u001b[0m b \u001b[38;5;241m=\u001b[39m b_upper \u001b[38;5;241m/\u001b[39m b_lower\n",
      "\u001b[0;31mNameError\u001b[0m: name 'b_upper' is not defined"
     ]
    }
   ],
   "source": [
    "x_mean = np.mean(x_train)\n",
    "y_mean = np.mean(y_train)\n",
    "x_train = np.array(x_train)\n",
    "print(x_train)\n",
    "print(x_train.shape)\n",
    "y_train = np.array(y_train)\n",
    "for i in range(len(x_train)):\n",
    "    b_upper += (x_train[i] - x_mean) * (y_train[i] - y_mean)\n",
    "    b_lower += (x_train[i] - x_mean)**2\n",
    "b = b_upper / b_lower\n",
    "a = y_mean -b * x_mean"
   ]
  },
  {
   "cell_type": "code",
   "execution_count": null,
   "id": "163aa7a7",
   "metadata": {},
   "outputs": [],
   "source": []
  }
 ],
 "metadata": {
  "kernelspec": {
   "display_name": "Python 3 (ipykernel)",
   "language": "python",
   "name": "python3"
  },
  "language_info": {
   "codemirror_mode": {
    "name": "ipython",
    "version": 3
   },
   "file_extension": ".py",
   "mimetype": "text/x-python",
   "name": "python",
   "nbconvert_exporter": "python",
   "pygments_lexer": "ipython3",
   "version": "3.8.10"
  }
 },
 "nbformat": 4,
 "nbformat_minor": 5
}
